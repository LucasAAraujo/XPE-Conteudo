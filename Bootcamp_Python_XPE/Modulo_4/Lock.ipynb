{
 "cells": [
  {
   "cell_type": "code",
   "execution_count": 8,
   "id": "343832e1-832a-4a19-a890-55835169e002",
   "metadata": {},
   "outputs": [
    {
     "name": "stdout",
     "output_type": "stream",
     "text": [
      "Você comprou 1 de pão(es).              Ainda tempos 9 pão(es) em estoque\n",
      "Você comprou 2 de pão(es).              Ainda tempos 7 pão(es) em estoque\n",
      "Você comprou 3 de pão(es).              Ainda tempos 4 pão(es) em estoque\n",
      "Você comprou 4 de pão(es).              Ainda tempos 0 pão(es) em estoque\n",
      "Não temos a quantidade de pães suficiente.\n",
      "Não temos a quantidade de pães suficiente.\n",
      "Não temos a quantidade de pães suficiente.\n",
      "Não temos a quantidade de pães suficiente.\n",
      "Não temos a quantidade de pães suficiente.\n"
     ]
    }
   ],
   "source": [
    "from threading import Thread\n",
    "\n",
    "class Paes:\n",
    "    def __init__(self, estoque):\n",
    "        self.estoque = estoque\n",
    "\n",
    "    def comprar(self, quantidade):\n",
    "        if self.estoque < quantidade:\n",
    "            print(f'Não temos a quantidade de pães suficiente.')\n",
    "            return\n",
    "        self.estoque -= quantidade\n",
    "        print(f'Você comprou {quantidade} de pão(es).\\\n",
    "              Ainda tempos {self.estoque} pão(es) em estoque')\n",
    "\n",
    "if __name__ =='__main__':\n",
    "    paes = Paes(10)\n",
    "    for i in range(1,10):\n",
    "        t = Thread(target=paes.comprar, args=(i,))\n",
    "        t.start()\n"
   ]
  },
  {
   "cell_type": "markdown",
   "id": "e5639892-9f3a-4984-a0f1-69a54efcebac",
   "metadata": {},
   "source": []
  }
 ],
 "metadata": {
  "kernelspec": {
   "display_name": "Python 3 (ipykernel)",
   "language": "python",
   "name": "python3"
  },
  "language_info": {
   "codemirror_mode": {
    "name": "ipython",
    "version": 3
   },
   "file_extension": ".py",
   "mimetype": "text/x-python",
   "name": "python",
   "nbconvert_exporter": "python",
   "pygments_lexer": "ipython3",
   "version": "3.12.7"
  }
 },
 "nbformat": 4,
 "nbformat_minor": 5
}
