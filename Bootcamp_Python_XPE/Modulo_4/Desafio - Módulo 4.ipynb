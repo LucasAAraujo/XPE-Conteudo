{
 "cells": [
  {
   "cell_type": "code",
   "execution_count": 9,
   "id": "cd6cc890-2574-4c0b-bf80-8ed6d152c110",
   "metadata": {},
   "outputs": [
    {
     "name": "stdout",
     "output_type": "stream",
     "text": [
      "Número de instâncias: 32561\n",
      "Número de atributos: 15\n"
     ]
    }
   ],
   "source": [
    "import pandas as pd\n",
    "df = pd.read_csv('census.csv')\n",
    "\n",
    "# Questão 1\n",
    "num_instancias = df.shape[0]\n",
    "\n",
    "# Número de atributos (colunas)\n",
    "num_atributos = df.shape[1]\n",
    "\n",
    "print(f\"Número de instâncias: {num_instancias}\")\n",
    "print(f\"Número de atributos: {num_atributos}\")"
   ]
  },
  {
   "cell_type": "code",
   "execution_count": 6,
   "id": "a2c5d025-c0ad-495e-b5e4-88f71d05ef95",
   "metadata": {},
   "outputs": [],
   "source": [
    "from sklearn.preprocessing import StandardScaler\n",
    "standar_scaler = StandardScaler()"
   ]
  },
  {
   "cell_type": "code",
   "execution_count": 10,
   "id": "2c5a1dbd-b4ac-4b19-93f7-a7cfed8fd834",
   "metadata": {},
   "outputs": [],
   "source": [
    "# Para análise métricas\n",
    "from sklearn.metrics import accuracy_score, classification_report"
   ]
  },
  {
   "cell_type": "code",
   "execution_count": null,
   "id": "fc4d3f5d-f957-401b-978e-3ee96f18b0ab",
   "metadata": {},
   "outputs": [],
   "source": []
  }
 ],
 "metadata": {
  "kernelspec": {
   "display_name": "Python 3 (ipykernel)",
   "language": "python",
   "name": "python3"
  },
  "language_info": {
   "codemirror_mode": {
    "name": "ipython",
    "version": 3
   },
   "file_extension": ".py",
   "mimetype": "text/x-python",
   "name": "python",
   "nbconvert_exporter": "python",
   "pygments_lexer": "ipython3",
   "version": "3.12.7"
  }
 },
 "nbformat": 4,
 "nbformat_minor": 5
}
