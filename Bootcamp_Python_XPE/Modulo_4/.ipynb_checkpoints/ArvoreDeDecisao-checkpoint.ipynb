{
 "cells": [
  {
   "cell_type": "code",
   "execution_count": 1,
   "id": "1451ca40-17f5-4fb8-a2f8-5b642daff8e8",
   "metadata": {},
   "outputs": [],
   "source": [
    "import pandas as pd\n",
    "df = pd.read_csv(\"risco_credito.csv\")"
   ]
  },
  {
   "cell_type": "code",
   "execution_count": null,
   "id": "c39993e8-9dfa-4555-be65-d76ca4111767",
   "metadata": {},
   "outputs": [],
   "source": []
  }
 ],
 "metadata": {
  "kernelspec": {
   "display_name": "Python 3 (ipykernel)",
   "language": "python",
   "name": "python3"
  },
  "language_info": {
   "codemirror_mode": {
    "name": "ipython",
    "version": 3
   },
   "file_extension": ".py",
   "mimetype": "text/x-python",
   "name": "python",
   "nbconvert_exporter": "python",
   "pygments_lexer": "ipython3",
   "version": "3.12.7"
  }
 },
 "nbformat": 4,
 "nbformat_minor": 5
}
