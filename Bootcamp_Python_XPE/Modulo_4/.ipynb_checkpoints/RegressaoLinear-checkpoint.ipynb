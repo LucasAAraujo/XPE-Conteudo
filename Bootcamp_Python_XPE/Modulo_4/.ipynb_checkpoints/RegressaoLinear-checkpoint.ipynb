{
 "cells": [
  {
   "cell_type": "code",
   "execution_count": 2,
   "id": "59b9b921-7335-4ef4-90ab-117df85e887a",
   "metadata": {},
   "outputs": [],
   "source": [
    "import numpy as np"
   ]
  },
  {
   "cell_type": "code",
   "execution_count": 3,
   "id": "4a6fb7f5-11e5-46f6-9ab2-5409282e47d3",
   "metadata": {},
   "outputs": [],
   "source": [
    "X = np.array([[160], [165],[171],[174],[179],[181],[185],[188],[191],[200]])"
   ]
  },
  {
   "cell_type": "code",
   "execution_count": 4,
   "id": "77f6cf98-deb6-474c-9a8b-97c33d5f417b",
   "metadata": {},
   "outputs": [
    {
     "data": {
      "text/plain": [
       "array([[160],\n",
       "       [165],\n",
       "       [171],\n",
       "       [174],\n",
       "       [179],\n",
       "       [181],\n",
       "       [185],\n",
       "       [188],\n",
       "       [191],\n",
       "       [200]])"
      ]
     },
     "execution_count": 4,
     "metadata": {},
     "output_type": "execute_result"
    }
   ],
   "source": [
    "X"
   ]
  },
  {
   "cell_type": "code",
   "execution_count": 8,
   "id": "65206b03-11fd-4964-91ab-d160baaa317a",
   "metadata": {},
   "outputs": [
    {
     "data": {
      "text/plain": [
       "array([[ 64],\n",
       "       [ 67],\n",
       "       [ 70],\n",
       "       [ 80],\n",
       "       [ 77],\n",
       "       [ 81],\n",
       "       [ 87],\n",
       "       [ 94],\n",
       "       [101],\n",
       "       [112]])"
      ]
     },
     "execution_count": 8,
     "metadata": {},
     "output_type": "execute_result"
    }
   ],
   "source": [
    "y = np.array([[64],[67],[70],[80],[77],[81],[87],[94],[101],[112]])\n",
    "y"
   ]
  },
  {
   "cell_type": "code",
   "execution_count": 11,
   "id": "1dcb64b4-61e8-41ec-92b3-d917e5275d48",
   "metadata": {},
   "outputs": [
    {
     "data": {
      "text/plain": [
       "<matplotlib.collections.PathCollection at 0x1f2f523f380>"
      ]
     },
     "execution_count": 11,
     "metadata": {},
     "output_type": "execute_result"
    }
   ],
   "source": [
    "import matplotlib.pyplot as plt\n",
    "%matplotlib inline\n",
    "plt.scatter(X,y)"
   ]
  },
  {
   "cell_type": "code",
   "execution_count": null,
   "id": "5e5fb95b-97d5-4692-90a9-9c97d40b532b",
   "metadata": {},
   "outputs": [],
   "source": []
  }
 ],
 "metadata": {
  "kernelspec": {
   "display_name": "Python 3 (ipykernel)",
   "language": "python",
   "name": "python3"
  },
  "language_info": {
   "codemirror_mode": {
    "name": "ipython",
    "version": 3
   },
   "file_extension": ".py",
   "mimetype": "text/x-python",
   "name": "python",
   "nbconvert_exporter": "python",
   "pygments_lexer": "ipython3",
   "version": "3.12.7"
  }
 },
 "nbformat": 4,
 "nbformat_minor": 5
}
