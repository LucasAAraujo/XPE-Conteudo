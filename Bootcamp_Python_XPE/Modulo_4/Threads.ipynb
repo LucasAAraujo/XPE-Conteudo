{
 "cells": [
  {
   "cell_type": "code",
   "execution_count": 5,
   "id": "6f965582-9921-4589-b9e4-a2a3ce55bb05",
   "metadata": {},
   "outputs": [
    {
     "name": "stdout",
     "output_type": "stream",
     "text": [
      "Teste\n",
      "0\n",
      "1\n",
      "2\n",
      "3\n",
      "4\n",
      "5\n",
      "6\n",
      "7\n",
      "8\n",
      "9\n",
      "IGTI\n"
     ]
    }
   ],
   "source": [
    "from time import sleep\n",
    "print(\"Teste\")\n",
    "\n",
    "for i in range(10):\n",
    "    print(i)\n",
    "    sleep(5)\n",
    "    \n",
    "print(\"IGTI\")"
   ]
  },
  {
   "cell_type": "code",
   "execution_count": 9,
   "id": "62169c4b-84eb-44fb-856f-8d8fd21f89c0",
   "metadata": {},
   "outputs": [
    {
     "name": "stdout",
     "output_type": "stream",
     "text": [
      "0\n",
      "1\n",
      "IGTI Thread\n",
      "2\n",
      "3\n",
      "4\n",
      "IGTI Thread\n",
      "5\n",
      "6\n",
      "IGTI Thread\n",
      "7\n",
      "8\n",
      "9\n",
      "IGTI Thread\n",
      "10\n"
     ]
    }
   ],
   "source": [
    "from threading import Thread\n",
    "\n",
    "class IGThread(Thread):\n",
    "    def __init__(self, texto, tempo):\n",
    "        self.texto = texto\n",
    "        self.tempo = tempo\n",
    "        super().__init__()\n",
    "\n",
    "    def run(self):\n",
    "        sleep(self.tempo)\n",
    "        print(self.texto)\n",
    "\n",
    "t1 = IGThread(\"IGTI Thread 1\", 2)\n",
    "t1.start()\n",
    "\n",
    "t2 = IGThread(\"IGTI Thread 2\", 5)\n",
    "t2.start()\n",
    "\n",
    "t3 = IGThread(\"IGTI Thread 3\", 7)\n",
    "t3.start()\n",
    "\n",
    "t4 = IGThread(\"IGTI Thread 4\", 10)\n",
    "t4.start()\n",
    "\n",
    "for i in range(11):\n",
    "    print(i)\n",
    "    sleep(1)"
   ]
  },
  {
   "cell_type": "code",
   "execution_count": null,
   "id": "09197fa3-9cbd-4d86-9bad-942517b9bf01",
   "metadata": {},
   "outputs": [],
   "source": []
  }
 ],
 "metadata": {
  "kernelspec": {
   "display_name": "Python 3 (ipykernel)",
   "language": "python",
   "name": "python3"
  },
  "language_info": {
   "codemirror_mode": {
    "name": "ipython",
    "version": 3
   },
   "file_extension": ".py",
   "mimetype": "text/x-python",
   "name": "python",
   "nbconvert_exporter": "python",
   "pygments_lexer": "ipython3",
   "version": "3.12.7"
  }
 },
 "nbformat": 4,
 "nbformat_minor": 5
}
